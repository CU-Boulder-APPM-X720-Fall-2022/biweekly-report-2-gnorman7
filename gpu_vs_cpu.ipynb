{
 "cells": [
  {
   "cell_type": "markdown",
   "metadata": {},
   "source": [
    "### gpu_vs_cpu.ipynb\n",
    "\n",
    "The purpose of this notebook is to explore the performance and usability of computations on the CPU vs. on the GPU, using PyTorch\n",
    "\n",
    "## Motivation\n",
    "\n",
    "In class, we spent some time discussing AlexNet. We mentioned that it was able to be larger because it utilized GPUs, which was novel at the time. This allowed for more computations and thus more learning to be done over a massive dataset. We also mentioned that due to the memory constraints of the GPUs, the convolutional neural network (CNN) needed to be broken down into two seperate pieces, rather than one large piece. Thus, the purpose of this notebook is to explore using the GPU for calculations on PyTorch. I don't remember where I saw this, but PyTorch as a package provides three key features or functionalities:\n",
    "\n",
    "1. Neural Network and Deep Learning Model Architectures\n",
    "2. Automatic Differentiation, and associated Optimization Methods\n",
    "3. Tensor Datatypes with efficient Computation, through use of GPUs\n",
    "\n",
    "My past notebooks have focused more on the second, and a little on the first functionalities. I've almost completely ignored efficient computation using GPUs. The purpose of this notebook is to begin down that path."
   ]
  },
  {
   "cell_type": "markdown",
   "metadata": {},
   "source": [
    "## Exploration\n",
    "\n",
    "This section will focus on exploration, without too much structure or rigor. This is mainly to learn the fundamentals of PyTorch, without necessarily getting any helpful or noteable results. I'll be refering to a few different tutorials, but writing my own code and deciding how to combine them. I'll start with [PyTorch's Documentation](https://pytorch.org/tutorials/beginner/introyt/tensors_deeper_tutorial.html?highlight=gpu). I'll also use another resource from [Weights & Biases](https://wandb.ai/wandb/common-ml-errors/reports/How-To-Use-GPU-with-PyTorch---VmlldzozMzAxMDk)."
   ]
  },
  {
   "cell_type": "code",
   "execution_count": 1,
   "metadata": {},
   "outputs": [
    {
     "name": "stdout",
     "output_type": "stream",
     "text": [
      "Device: cuda\n",
      "Type of 'device': <class 'torch.device'> \n",
      "Number of devices: 1\n",
      "Current device: 0\n",
      "Device 0 : NVIDIA GeForce GTX 1050\n"
     ]
    }
   ],
   "source": [
    "import torch\n",
    "\n",
    "if torch.cuda.is_available():\n",
    "    device = torch.device('cuda')\n",
    "else:\n",
    "    device = torch.device('cpu')\n",
    "\n",
    "print(f'Device: {device}')\n",
    "print(f'Type of \\'device\\': {type(device)} ')\n",
    "\n",
    "n_devices = torch.cuda.device_count()\n",
    "\n",
    "print(f'Number of devices: {n_devices}')\n",
    "print(f'Current device: {torch.cuda.current_device()}')\n",
    "\n",
    "for i in range(n_devices):\n",
    "    print(f'Device {i} : {torch.cuda.get_device_name(0)}')"
   ]
  },
  {
   "cell_type": "markdown",
   "metadata": {},
   "source": [
    "GPU found. Great!\n",
    "\n",
    "We also show a few other functions for checking and looking at devices. The `device` object is more than just a string or an integer. We see that I have one GPU. For larger problems, we may have multiple GPUs, and we may need to send objects between them (like in the original AlexNet). This code will be helpful for later in the semester when I hope to run PyTorch on CU's [Alpine Supercomputing system](https://curc.readthedocs.io/en/latest/clusters/alpine/index.html) (which has some fancy GPUs).\n",
    "\n",
    "Well actually, at the time of first writing this, the GPU was found. However, on the same machine, I later had problems with the GPU not being found. I could not find a GPU, despite restarting my editor, trying via command line, checking Task Manager for other programs using the GPU, and opening NVIDIAs Control Panel. I saw a few system tasks in Task Manager that were sporadically using the GPU, but only a small capacity of it. Still, I thought that these tasks could be temporarily stealing the GPU. With this thinking in mind, I wrote a short for loop that checked for the GPU, paused 200 milliseconds, and checked again. Running this a few times, the GPU was never found. However, on one run, my computer blue-screened, and I had a `Driver_State_Failure`, or something of that nature. My computer has been having problems already, so this is likely related. However, this whole experience goes to show that this apparently simple check can sometimes fail (and be a huge headache). I've found that restarting my computer is the easiest way to deal with this issue of not finding the GPU."
   ]
  },
  {
   "cell_type": "code",
   "execution_count": 2,
   "metadata": {},
   "outputs": [
    {
     "name": "stdout",
     "output_type": "stream",
     "text": [
      "Initialization Method:\n",
      "tensor([1., 1., 1., 1., 1.], device='cuda:0')\n",
      "tensor([1., 1., 1., 1., 1.])\n",
      ".to Method:\n",
      "tensor([1., 1., 1., 1., 1.], device='cuda:0')\n",
      "tensor([1., 1., 1., 1., 1.])\n",
      ".cuda and .cpu Methods:\n",
      "tensor([1., 1., 1., 1., 1.], device='cuda:0')\n",
      "tensor([1., 1., 1., 1., 1.])\n",
      "tensor([1., 1., 1., 1., 1.], device='cuda:0')\n",
      "tensor([1., 1., 1., 1., 1.])\n",
      "tensor([1., 1., 1., 1., 1.], device='cuda:0')\n",
      ".copy_ Method:\n",
      "tensor([1., 1., 1., 1., 1.], device='cuda:0')\n",
      "tensor([1., 1., 1., 1., 1.])\n",
      "False\n",
      "True\n"
     ]
    }
   ],
   "source": [
    "x_gpu = torch.ones(5,device=device)\n",
    "x_cpu = torch.ones(5)\n",
    "print('Initialization Method:')\n",
    "print(x_gpu)\n",
    "print(x_cpu)\n",
    "print('.to Method:')\n",
    "x_gpu2 = x_cpu.to(device)\n",
    "print(x_gpu2)\n",
    "# Make sure that this was not modified\n",
    "print(x_cpu)\n",
    "print('.cuda and .cpu Methods:')\n",
    "x_gpu3 = x_cpu.cuda()\n",
    "x_cpu2 = x_gpu.cpu()\n",
    "print(x_gpu3)\n",
    "print(x_cpu2)\n",
    "# Make sure that these were not modified\n",
    "print(x_gpu)\n",
    "print(x_cpu)\n",
    "# Check that calling without an output does not modify either\n",
    "x_gpu.cpu()\n",
    "print(x_gpu)\n",
    "\n",
    "# Check one last way.\n",
    "x_gpu4 = torch.zeros_like(x_cpu,device=device)\n",
    "x_gpu4.copy_(x_cpu)\n",
    "print('.copy_ Method:')\n",
    "print(x_gpu4)\n",
    "print(x_cpu)\n",
    "\n",
    "print(x_cpu.is_cuda)\n",
    "print(x_gpu.is_cuda)"
   ]
  },
  {
   "cell_type": "markdown",
   "metadata": {},
   "source": [
    "Above are a few different ways to put/move things between devices:\n",
    "1. `device=device` during initialization, and using `_copy`\n",
    "2. `to(device)` and assign the output to a different variable\n",
    "3. `cpu()` and `gpu()`\n",
    "\n",
    "And the `is_cuda` property tells us if the object is on the GPU (`True`) or the CPU (`False`).\n",
    "\n",
    "When my computer could not find a GPU, this block gave errors. This is because calling `gpu()` had no GPU to move the object to. Thus, it's best to just use the `to(device)`, and maybe the `cpu()` functions, and to avoid using `gpu()`, in case the GPU is not found."
   ]
  },
  {
   "cell_type": "code",
   "execution_count": 3,
   "metadata": {},
   "outputs": [
    {
     "name": "stdout",
     "output_type": "stream",
     "text": [
      "Error because we are trying to do computations between CPU and GPU\n",
      "tensor([2., 2., 2., 2., 2.], device='cuda:0')\n"
     ]
    }
   ],
   "source": [
    "try:\n",
    "    print(x_cpu + x_gpu)\n",
    "except:\n",
    "    print('Error because we are trying to do computations between CPU and GPU')\n",
    "\n",
    "y_gpu = x_gpu+x_gpu2\n",
    "print(y_gpu)"
   ]
  },
  {
   "cell_type": "markdown",
   "metadata": {},
   "source": [
    "In the above, we see that we cannot have objects \"interact\" if they are on separate devices. We are only testing with tensors so far, but we'll assume that models and other objects also follow these same general rules. We would either need to move the GPU objects to the CPU and use the CPU as usual, or move the CPU objects to the GPU and do our computations there.\n",
    "\n",
    "AlexNet needed to use two GPUs and communicate between them because the memory of these GPUs was limited. Inspired by this, let's see if we can find out the memory of my GPU."
   ]
  },
  {
   "cell_type": "code",
   "execution_count": 4,
   "metadata": {},
   "outputs": [
    {
     "name": "stdout",
     "output_type": "stream",
     "text": [
      "2097152\n",
      "|===========================================================================|\n",
      "|                  PyTorch CUDA memory summary, device ID 0                 |\n",
      "|---------------------------------------------------------------------------|\n",
      "|            CUDA OOMs: 0            |        cudaMalloc retries: 0         |\n",
      "|===========================================================================|\n",
      "|        Metric         | Cur Usage  | Peak Usage | Tot Alloc  | Tot Freed  |\n",
      "|---------------------------------------------------------------------------|\n",
      "| Allocated memory      |    2560 B  |    5632 B  |  106496 B  |  103936 B  |\n",
      "|       from large pool |       0 B  |       0 B  |       0 B  |       0 B  |\n",
      "|       from small pool |    2560 B  |    5632 B  |  106496 B  |  103936 B  |\n",
      "|---------------------------------------------------------------------------|\n",
      "| Active memory         |    2560 B  |    5632 B  |  106496 B  |  103936 B  |\n",
      "|       from large pool |       0 B  |       0 B  |       0 B  |       0 B  |\n",
      "|       from small pool |    2560 B  |    5632 B  |  106496 B  |  103936 B  |\n",
      "|---------------------------------------------------------------------------|\n",
      "| GPU reserved memory   |    2048 KB |    2048 KB |    2048 KB |       0 B  |\n",
      "|       from large pool |       0 KB |       0 KB |       0 KB |       0 B  |\n",
      "|       from small pool |    2048 KB |    2048 KB |    2048 KB |       0 B  |\n",
      "|---------------------------------------------------------------------------|\n",
      "| Non-releasable memory |    2045 KB |    2047 KB |    2149 KB |  105984 B  |\n",
      "|       from large pool |       0 KB |       0 KB |       0 KB |       0 B  |\n",
      "|       from small pool |    2045 KB |    2047 KB |    2149 KB |  105984 B  |\n",
      "|---------------------------------------------------------------------------|\n",
      "| Allocations           |       5    |      11    |     201    |     196    |\n",
      "|       from large pool |       0    |       0    |       0    |       0    |\n",
      "|       from small pool |       5    |      11    |     201    |     196    |\n",
      "|---------------------------------------------------------------------------|\n",
      "| Active allocs         |       5    |      11    |     201    |     196    |\n",
      "|       from large pool |       0    |       0    |       0    |       0    |\n",
      "|       from small pool |       5    |      11    |     201    |     196    |\n",
      "|---------------------------------------------------------------------------|\n",
      "| GPU reserved segments |       1    |       1    |       1    |       0    |\n",
      "|       from large pool |       0    |       0    |       0    |       0    |\n",
      "|       from small pool |       1    |       1    |       1    |       0    |\n",
      "|---------------------------------------------------------------------------|\n",
      "| Non-releasable allocs |       1    |       3    |      92    |      91    |\n",
      "|       from large pool |       0    |       0    |       0    |       0    |\n",
      "|       from small pool |       1    |       3    |      92    |      91    |\n",
      "|===========================================================================|\n",
      "\n"
     ]
    }
   ],
   "source": [
    "device.__sizeof__()\n",
    "# print(torch.cuda.memory_allocated()) # This returns the current memory allocated in bytes.\n",
    "# print(torch.cuda.memory_stats()) # This isn't readable.\n",
    "print(torch.cuda.max_memory_reserved())\n",
    "print(torch.cuda.memory_summary())"
   ]
  },
  {
   "cell_type": "markdown",
   "metadata": {},
   "source": [
    "In the above, we see quite a bit of information. I won't get into everything, but we see that I have a total allocation of 682496 Bytes, or 0.000682496 Gigabytes. According to [NVIDIA's specifications](https://www.nvidia.com/en-gb/geforce/graphics-cards/geforce-gtx-1050/specifications/), my GPU has \"640 CUDA Cores\" and \"2 GB GDDR5\". The other `max_memory_reserved` is 0.002 Gigabytes. Multiplying this by 640, we get 1.34 Gigabytes, which is close enough to the stated 2 GB memory, but I'm not totally sure if just multiplying these makes sense. That would imply that `max_memory_reserved` returns the memory reserved for each core, which is unusual, as we often think of memory and cores separately.\n",
    "\n",
    "I was familiar with the idea that GPUs are given, and then follow a set of instructions for many iterations, so the high number of Cores made some sense to me. GPUs have many different cores so that a task can be broken down into somewhat small sets of instructions, to make these instruction able to be repeated. It's the repeating the instructions that makes the GPU efficient. I was also curious why they are specified as \"Cuda Cores\", and not just \"Cores\". It turns out that there are other types of GPU cores, with the \"Tensor Cores\" being most applicable to Machine Learning computations (Nvidia also has GPUs with \"Ray-Tracing Cores\"). From this [website](https://www.techcenturion.com/nvidia-cuda-cores/), the main differences between CUDA and Tensor cores are explained:\n",
    "\n",
    "> CUDA cores have been present on every single GPU developed by Nvidia in the past decade while Tensor Cores have recently been introduced.\n",
    "> \n",
    "> Tensor cores can compute a lot faster than the CUDA cores. CUDA cores perform one operation per clock cycle, whereas tensor cores can perform multiple operations per clock cycle.\n",
    "> \n",
    "> Everything comes with a cost, and here, the cost is accuracy. Accuracy takes a hit to boost the computation speed. On the other hand, CUDA cores produce very accurate results.\n",
    "> \n",
    "> For machine learning models, CUDA cores are not as effective as Tensor cores in terms of both cost and computation speed. Hence, these are the preferred choice for training machine learning models.\n",
    ">  \n",
    "\n",
    "Anyways, I'm not able to fully explain all of the memory details, but that is only a problem if I run out of memory."
   ]
  },
  {
   "cell_type": "markdown",
   "metadata": {},
   "source": [
    "## CPU vs. GPU timing\n",
    "\n",
    "How much does using a GPU impact training time? There are lots of added difficulties when working with a GPU, so hopefully this is justified by a substantial speed up.\n",
    "\n",
    "To test timing, I'll create just a simple example problem and run it with tensors on the CPU vs on the GPU. In machine learning, we use a number of different functions, such as pooling, convolution, activation functions, and linear transformations. The most common and versatile of these a linear transformation. Thus, I'll look at the run times associated with doing linear transformations."
   ]
  },
  {
   "cell_type": "markdown",
   "metadata": {},
   "source": [
    "### Example Problem\n",
    "Let $A \\in \\mathbb{R}^{n \\times n}$, $x \\in \\mathbb{R}^{n \\times 1}$. Then, $A x:=b \\in \\mathbb{R}^{n \\times 1}$. Because we are investigating this in a general sense, we will randomly generate $A$ and $x$ and then time the computation of $b$. We will write a function to do all the computations and record the run time, then we will use this function for both the CPU and GPU. Although there's some difference between the accuracies depending on the device (mentioned in one of the previous links), we will not look into this."
   ]
  },
  {
   "cell_type": "code",
   "execution_count": 22,
   "metadata": {},
   "outputs": [],
   "source": [
    "import time\n",
    "import numpy as np\n",
    "\n",
    "def test_function(n,device):\n",
    "    A = torch.rand((n,n),device=device)\n",
    "    x = torch.rand((n),device=device)\n",
    "    b = torch.matmul(A,x)\n",
    "\n",
    "def repeat_runs_and_time(n,device):\n",
    "    t_s = time.perf_counter()\n",
    "    for i in range(10):\n",
    "        test_function(n,device)\n",
    "    t_f = time.perf_counter()\n",
    "    return (t_f-t_s)\n",
    "\n",
    "def do_many_runs(ns,device=None):\n",
    "    if device==None:\n",
    "        device = torch.device('cpu')\n",
    "\n",
    "    N_ns = len(ns)\n",
    "    times = torch.zeros(N_ns)\n",
    "    for i,n in enumerate(ns):\n",
    "        times[i] = repeat_runs_and_time(n,device)\n",
    "\n",
    "    return times\n",
    "\n",
    "# Generate a bunch of different sizes to look at\n",
    "ns = torch.ceil(torch.logspace(1,4.4,50)).int()\n",
    "times_cpu = do_many_runs(ns)\n",
    "times_gpu = do_many_runs(ns,device=device)"
   ]
  },
  {
   "cell_type": "code",
   "execution_count": 23,
   "metadata": {},
   "outputs": [
    {
     "data": {
      "text/plain": [
       "<matplotlib.legend.Legend at 0x19dec00ba90>"
      ]
     },
     "execution_count": 23,
     "metadata": {},
     "output_type": "execute_result"
    },
    {
     "data": {
      "image/png": "[encoded data removed]",
      "text/plain": [
       "<Figure size 432x288 with 1 Axes>"
      ]
     },
     "metadata": {},
     "output_type": "display_data"
    }
   ],
   "source": [
    "import matplotlib.pyplot as plt\n",
    "\n",
    "plt.figure()\n",
    "plt.loglog(ns,times_cpu)\n",
    "plt.loglog(ns,times_gpu)\n",
    "plt.xlabel('Problem size, n')\n",
    "plt.ylabel('Total Time, seconds')\n",
    "plt.legend(('CPU','GPU'))"
   ]
  },
  {
   "cell_type": "code",
   "execution_count": 27,
   "metadata": {},
   "outputs": [
    {
     "name": "stdout",
     "output_type": "stream",
     "text": [
      "tensor(24.7533)\n",
      "tensor(31805.9199)\n"
     ]
    }
   ],
   "source": [
    "ratio = times_cpu/times_gpu\n",
    "print(torch.median(ratio))\n",
    "print(torch.max(ratio))"
   ]
  },
  {
   "cell_type": "markdown",
   "metadata": {},
   "source": [
    "From the above figure and quick analysis, we see that for these problems, the GPU is generally ~25 times as fast, getting up to $3 \\cdot 10^5$ times as fast as the CPU. I did encounter an out of memory error for the GPU when I tried to look at a larger $n$.\n",
    "\n",
    "While the above results are impressive, they may not always be realistic. Matrix vector products are much more oriented as a GPU type task, as they do not include any added logic or control flow. However, in machine learning, we add more complexity to the computational work by adding in backpropagation and other control flow features."
   ]
  },
  {
   "cell_type": "markdown",
   "metadata": {},
   "source": [
    "## Conclusion\n",
    "Inspired by Alex Nets origins as one of the first deep learning models trained with GPUs, we briefly investigated the implementation and performance enhancements associated with using GPUs in PyTorch. For implementation, PyTorch does most of the heavy-lifting, and we just need to be careful about knowing whether objects are on the CPU or GPU. Additionally, there may be some setup difficulties when first trying to get PyTorch to use GPUs, like I experienced. Future biweekly reports may benefit from these implementation details, such as by using CU's Alpine supercomputer. This included a brief dive into some more low-level GPU details, such as memory and cores. In addition to learning the implementation details, we performed a quick study to compare the speed up offered by the GPU. For a matrix-vector product, we saw a massive increase for using GPUs, especially for larger problems (although for problems still small enough to be stored on the GPU's memory). Thus, we see that for future PyTorch explorations, GPUs should be used, if available. In other words, the extra implementation details for using GPUs are worth the performance increase, even for these relatively small reports!"
   ]
  }
 ],
 "metadata": {
  "kernelspec": {
   "display_name": "Python 3.9.7 ('spyder-env')",
   "language": "python",
   "name": "python3"
  },
  "language_info": {
   "codemirror_mode": {
    "name": "ipython",
    "version": 3
   },
   "file_extension": ".py",
   "mimetype": "text/x-python",
   "name": "python",
   "nbconvert_exporter": "python",
   "pygments_lexer": "ipython3",
   "version": "3.9.7"
  },
  "orig_nbformat": 4,
  "vscode": {
   "interpreter": {
    "hash": "14a0abb8b133e72568b7a6e8fc97e5007cb14527d4a9bd19b762b2aa54dc2329"
   }
  }
 },
 "nbformat": 4,
 "nbformat_minor": 2
}
