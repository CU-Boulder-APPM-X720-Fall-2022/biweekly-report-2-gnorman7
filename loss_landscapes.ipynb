{
 "cells": [
  {
   "cell_type": "markdown",
   "metadata": {},
   "source": [
    "# Loss landscape exploration in MNIST Digits\n",
    "\n",
    "## Motivation\n",
    "In class we discussed a number of optimizers from a qualitative perspective. Because deep learning is a non-convex optimization, it's extremely difficult or impossible to get the same mathematical guarantees as if we were discussing convex optimization. Instead, we turn to somewhat \"intuitive\" or qualitative ideas. For instance, one of these ideas is to allow the update direction to be based on the gradient, but also based on the gradients from previous iterations, or the \"momentum\". We mentioned a [paper](https://arxiv.org/abs/1706.08500) where Adam is shown to behave as a Heavy Ball with Friction (HBF), which would allow it to skip over local minima that Stochastic Gradient Descent (SGD) would get caught in.\n",
    "\n",
    "While there are mathematical equations to derive an Ordinary Differential Equation (ODE) governing the evolution of the parameters, the resulting ODE may not have an intuitive physical meaning, or the derivation may only hold for certain optimizer parameter values. For instance, in the [derivation of Adam as a HBF](https://arxiv.org/abs/1706.08500), the optimzer parameter $\\beta_1$ and $\\beta_2$ must be chosen as specific values (for reference, these paramter control the averaging of the gradient and of the square of the gradient). Thus, while we can sometimes have a physical understanding of what an optimizer does, this is generally not the case.\n",
    "\n",
    "Therefore, we turn to other methods to examine the behavior of optimizers on a high-dimensional, non-convex loss function. One method is to visualize a loss function, and optimizers in two dimensions, via some method of dimensionality reduction of the original high-dimensional parameters. Additionally, based on lectures in class, we will choose a problem of image classification as an example."
   ]
  },
  {
   "cell_type": "markdown",
   "metadata": {},
   "source": [
    "## Loading Data\n",
    "PyTorch already includes many popular [datasets](https://pytorch.org/vision/stable/datasets.html) that just need to be locally downloaded. The way PyTorch includes this data makes loading easier, sometimes with the data having a designated test set that is loaded differently. Here, we'll load the training set, which we will use to make our validation set. Loading with the `transform` argument will apply the corresponding function to the inputs. We could also normalize here, but in this case it's not really a problem. Similarly, loading with the `target_transform` defined will apply that function to the outputs. For categorical data, it is good practice to use _one-hot encoding_, where the label is converted from $\\{1,2,...,n_{categories}\\}$ to $\\{ 0,1 \\}^{n_{categories}}$, where there are $n_{categories} - 1$ elements of the new vector with value `0`, and one element of the new vector with value `1`. The index of where this `1` occurs gives the original category number of the label. We'll use one-hot encoding later, not while loading the data.\n",
    "\n",
    "Throughout my code, I use some outside resources, but just to implement the ideas I'm thinking about. For instance, in this next section, I look at https://pytorch.org/tutorials/beginner/basics/data_tutorial.html, but really try to stay away from retyping the example code."
   ]
  },
  {
   "cell_type": "code",
   "execution_count": 1,
   "metadata": {},
   "outputs": [
    {
     "name": "stdout",
     "output_type": "stream",
     "text": [
      "Dataset MNIST\n",
      "    Number of datapoints: 60000\n",
      "    Split: train\n",
      "    Root Location: ./\n",
      "    Transforms (if any): ToTensor()\n",
      "    Target Transforms (if any): None\n",
      "<torch.utils.data.dataloader.DataLoader object at 0x00000255717360D0>\n"
     ]
    },
    {
     "data": {
      "text/plain": [
       "Text(0.5, 1.0, 'Label = 5')"
      ]
     },
     "execution_count": 1,
     "metadata": {},
     "output_type": "execute_result"
    },
    {
     "data": {
      "image/png": "[encoded data removed]",
      "text/plain": [
       "<Figure size 432x288 with 1 Axes>"
      ]
     },
     "metadata": {},
     "output_type": "display_data"
    }
   ],
   "source": [
    "from random import shuffle\n",
    "import torch\n",
    "import torch.nn as nn\n",
    "import torchvision\n",
    "from torchvision.transforms import ToTensor\n",
    "import matplotlib.pyplot as plt\n",
    "\n",
    "mnist_data = torchvision.datasets.MNIST(root='./',download=True,train=True, transform=ToTensor())\n",
    "data_loader = torch.utils.data.DataLoader(mnist_data, batch_size=32, shuffle=False)\n",
    "print(data_loader.dataset)\n",
    "print(data_loader)\n",
    "\n",
    "# Grab a batch from the data loader\n",
    "imgs, labels = next(iter(data_loader))\n",
    "\n",
    "# Grab the first sample and label from the batch.\n",
    "img = imgs[0]\n",
    "label = labels[0]\n",
    "\n",
    "# plt.imshow(img[0,:,:]) # This was my temporary solution, and for a 1x28x28, this does the same as squeezing\n",
    "plt.figure()\n",
    "plt.imshow(img.squeeze())\n",
    "plt.title(f'Label = {label}')"
   ]
  },
  {
   "cell_type": "markdown",
   "metadata": {},
   "source": [
    "## Designing the Model\n",
    "We'll use a Convolutional Neural Network to map from the input image space $\\mathbb{R} ^{784}$ ($28 \\times 28$) to the output space $\\mathbb{R} ^{10}$ (10 categories of labels). For later convenience, call this mapping $f_\\theta : \\mathbb{R} ^{784} \\to \\mathbb{R} ^{10}$, where $\\theta$ are the parameters of the neural network. In reality, the samples have discrete pixel values between $0$ and $255$, and we will want a one-hot type output, with all zeros but a single one. However, we can still apply the function to instances that make no sense, such as an \"image\" that has pixel values larger than 255.\n",
    "\n",
    "We'll use [PyTorch's convolution function](https://pytorch.org/docs/stable/generated/torch.nn.Conv2d.html) `Conv2d`, which takes inputs `in_channels`, `out_channels`, `kernel_size` and through pooling outputs some metric (such as the maximum or average) over the kernel for each output channel. This [visualization](https://github.com/vdumoulin/conv_arithmetic/blob/master/README.md) and this [explanation](https://towardsdatascience.com/conv2d-to-finally-understand-what-happens-in-the-forward-pass-1bbaafb0b148#:~:text=Each%20output%20channel%20is%20the,*3%3D12%20convolution%20kernels.) go through the convolution process more thoroughly than we will here.\n",
    "\n",
    "To design the CNN, I iteratively went through layers and checked the output sizes. When I got stuck with errors, I would comment out future steps / layers and check what went wrong. I learned a few things, by trial by error. First, we're usually dealing with a 4 dimensional tensor of the following form\n",
    "\n",
    "$$x \\in \\mathbb{R}^{\\text{batch size} \\times \\text{channels} \\times \\text{length} \\times \\text{height}}$$\n",
    "\n",
    "* batch size (usually 16, maybe 32... whatever I loaded in above.), the number of samples that we are loading, based on our `data_loader`\n",
    "* channels = 1, 8, 16, the number of \"color\" channels. We begin with 1 color channel (grayscale), then through the convolution process, we create parameters so that we can upsample to 8 \"color\" channels in our first `Conv2d`, and then upsample again to 16 in our second `Conv2d`.\n",
    "* length, width = 28, then varies. This was the hardest to keep track of and warrants its own discussion.\n",
    "\n",
    "### Length and Width in CNN\n",
    "For simplicity, note that length=width for the functions used here. These dimensions are the size of our image, but they change through both `Conv2D` and `AvgPool2d` (or any pooling). Because the convolutions use kernels with sizes greater than 1, when we encounter edges within our kernel, we would have to stop before we run a part of the kernel over the edge. However, by adding padding, we can just assume some value for pixels that are over the edges. With zero padding (as is default for `Conv2d`), we assume the pixel values are `0` over the edge. This means that `Conv2D` won't change the length or width. However, for pooling, both the arguments impact the length/width differently. The first argument is the `kernel_size`, which has the same problem as mentioned for `Conv2D`: we won't be able to map to the same length/width because the kernel would need information beyond the edge. The length/width are decreased by `kernel_size-1` (where we subtract `1` because a kernel of `1` returns the same image size). Then, the second input to pooling is the `stride`. This is how many pixels to skip over (in each dimension) while moving our kernel across the input image. If we choose `stride=1`, we just move to the next pixel, and this parameter does not reduce the size any. In general, this parameter divides the number of input pixels to give the output pixels (in each dimension), and we will round up. For instance, an image with 5 pixels in length (and width) and `stride=2` would give one kernel starting at the $(1,1)$, the next starting at $(1,3)$, and the last at $(1,5)$ (and then start again on $(3,1)$). Thus, we would have a resulting image with 3 pixels in each direction. Thus, the expression for the resulting length/width is `ceil(length - (kernel_size-1) / stride)`\n",
    "\n",
    "Once we are down with the convolution and pooling steps, we rescale the images into a vector, where the size of each vector of the batch is given by the length times width times number of channels. After this, we use a regular dense Multilayer Perceptron (MLP) to reduce this dimension to our expected 10 output classes.\n",
    "\n",
    "Later, we will see that the size of the model (the number of parameters) is important for what we want to do. I started with a model with $3245$ parameters, and needed to scale that down to a smaller model for runtime and memory purposes."
   ]
  },
  {
   "cell_type": "code",
   "execution_count": 2,
   "metadata": {},
   "outputs": [
    {
     "name": "stdout",
     "output_type": "stream",
     "text": [
      "torch.Size([32, 1, 28, 28])\n",
      "torch.Size([32, 10])\n"
     ]
    }
   ],
   "source": [
    "class CNN(nn.Module):\n",
    "    def __init__(self):\n",
    "        super().__init__()\n",
    "        self.activation_fcn = nn.ReLU\n",
    "        self.convolution_part = nn.Sequential(\n",
    "            # 28 for both width and height, with 1 channel\n",
    "            nn.Conv2d(in_channels=1,out_channels=3,kernel_size=5),\n",
    "            self.activation_fcn(),\n",
    "            # 28-(5-1) = 24 for both width and height, with 8 channels\n",
    "            nn.AvgPool2d(4,2),\n",
    "            # ceil((24-4+1) / 2) = ceil(21/2) = ceil(10.5) = 11\n",
    "            nn.Conv2d(3,5,4),\n",
    "            # 11-(4-1) = 8 for width and height, 16 channels now.\n",
    "            self.activation_fcn(),\n",
    "            # Still 8\n",
    "            nn.AvgPool2d(2,2)\n",
    "            # ceil((8-(2-1))/2) = ceil(7/2) = 4\n",
    "        )\n",
    "\n",
    "        self.mlp_part = nn.Sequential(\n",
    "            # 4 by 4 reshaped into a 16 by 1 vector representing the image for one channel. Then 16 pixels by 5 channels = 80\n",
    "            nn.Linear(80, 32),\n",
    "            # Regular linear layer, output 32 units\n",
    "            self.activation_fcn(),\n",
    "            nn.Linear(32,10)\n",
    "            # Final output of 10 units. This is our representation of the 10 categories.\n",
    "        )\n",
    "\n",
    "\n",
    "    def forward(self, x):\n",
    "        # Apply the convolution part, then flatten and apply the MLP part.\n",
    "        conv_out = self.convolution_part(x)\n",
    "        mlp_out = self.mlp_part(torch.flatten(conv_out,1))\n",
    "        return mlp_out\n",
    "\n",
    "cnn_model = CNN()\n",
    "\n",
    "# Just for debugging the creation of the CNN:\n",
    "for i, data in enumerate(data_loader, 0):\n",
    "    # get the inputs; data is a list of [inputs, labels]\n",
    "    inputs, labels = data\n",
    "\n",
    "    print(inputs.shape)\n",
    "    outputs = cnn_model(inputs)\n",
    "    print(outputs.shape) \n",
    "    # print(labels.shape) \n",
    "    # print(nn.functional.one_hot(labels).shape) \n",
    "    break"
   ]
  },
  {
   "cell_type": "markdown",
   "metadata": {},
   "source": [
    "### Connection to Class\n",
    "\n",
    "In class, we discussed AlexNet, and specifically went through some of the layers. AlexNet is big, even 10 years later, so I don't load it on my computer. Instead, I try and design and understand the sizes of my own CNN. This is just like in class when we went through some of the layers of AlexNet and discussed the sizes of the convolution and pooling layers. Also, a key feature of AlexNet was using GPUs, and in this project I'm not looking at using my GPUs."
   ]
  },
  {
   "cell_type": "markdown",
   "metadata": {},
   "source": [
    "## Training the Model\n",
    "\n",
    "Our end goal is to look at the loss landscape and compare optimizers. Usually, we would care about an accuracy metric, but this project will already be introducing a lot of new ideas. Some of the formatting is from https://pytorch.org/tutorials/beginner/blitz/cifar10_tutorial.html. To find a suitable learning rate, I started with a small learning rate $10^{-4}$, and very few epochs. I ran the training and showed the losses. If the loses were decaying over all the epochs and never blowing up, then I increased the learning rate. The losses blew up at a learning rate of $1.0$, so I stay below this level. Overall, this took many iterations of \"manual hyperparameter tuning\" to reach a reasonable learning rate. Then, I slowly increased the number of epochs to make sure that the training wouldn't diverge when I went for a huge run."
   ]
  },
  {
   "cell_type": "code",
   "execution_count": 33,
   "metadata": {},
   "outputs": [],
   "source": [
    "# Restart with a clean model\n",
    "model = CNN()\n",
    "\n",
    "epochs = 500\n",
    "lr = 0.1\n",
    "optimizer = torch.optim.SGD(model.parameters(),lr=lr)\n",
    "loss_fcn = nn.CrossEntropyLoss()\n",
    "losses = []\n",
    "\n",
    "# Iterate through epochs\n",
    "for epoch in range(epochs+1):\n",
    "    loss_of_epoch = 0.0\n",
    "\n",
    "    # This will let us compute the loss on the final epoch, and not change the parameters\n",
    "    # We don't usually need this. It's just nice for what we want to do later.\n",
    "    perform_opt_step = epoch<epochs\n",
    "\n",
    "    # Iterate through batches\n",
    "    for i, data in enumerate(data_loader):\n",
    "        inputs, labels = data\n",
    "\n",
    "        if(perform_opt_step): \n",
    "            # Zero the .grad property of all the optimizer's optimization parameters\n",
    "            optimizer.zero_grad()\n",
    "\n",
    "            # Compute the loss\n",
    "            outputs = model(inputs)\n",
    "            loss = loss_fcn(outputs,labels)\n",
    "\n",
    "            # Update the .grad property of all tensors that have requires_grad=True\n",
    "            loss.backward()\n",
    "\n",
    "            # Use the .grad property of the optimizer's optimization parameters to update them.\n",
    "            optimizer.step()\n",
    "        else:\n",
    "            with torch.no_grad():\n",
    "                # Compute the loss\n",
    "                outputs = model(inputs)\n",
    "                loss = loss_fcn(outputs,labels)\n",
    "\n",
    "        loss_of_epoch+=loss.item()\n",
    "\n",
    "    # Keep track of our training history\n",
    "    losses.append(loss_of_epoch)\n"
   ]
  },
  {
   "cell_type": "markdown",
   "metadata": {},
   "source": [
    "The runtime of the above code is quite large. For instance, running with 500 epochs (and a learning rate of $0.001$) took over 2 hours on my machine, although for a larger model while I was still figuring out this notebook. I'm not using any GPUs, although that would probably speed up the process... It would also add a lot of more complexity to what will already be a pretty substantial jump. I may undertake this as a separate notebook."
   ]
  },
  {
   "cell_type": "code",
   "execution_count": 34,
   "metadata": {},
   "outputs": [
    {
     "name": "stdout",
     "output_type": "stream",
     "text": [
      "34.40937618109428\n"
     ]
    },
    {
     "data": {
      "text/plain": [
       "Text(0.5, 0, 'Epochs')"
      ]
     },
     "execution_count": 34,
     "metadata": {},
     "output_type": "execute_result"
    },
    {
     "data": {
      "image/png": "[encoded data removed]",
      "text/plain": [
       "<Figure size 432x288 with 1 Axes>"
      ]
     },
     "metadata": {},
     "output_type": "display_data"
    }
   ],
   "source": [
    "print(losses[-1])\n",
    "\n",
    "plt.figure()\n",
    "plt.plot(losses)\n",
    "plt.yscale('log')\n",
    "plt.xlabel('Epochs')"
   ]
  },
  {
   "cell_type": "markdown",
   "metadata": {},
   "source": [
    "## Save the model\n",
    "Let's save the model so if the notebook closes I don't need to rerun the training and waste more electricity. We actually just save the model parameters (with a key), and if we have an instance of the `CNN` class, we can load these parameters in the correct place (using the key). There's more information on this [here](https://pytorch.org/tutorials/beginner/saving_loading_models.html), specifically using PyTorch's `state_dict`."
   ]
  },
  {
   "cell_type": "code",
   "execution_count": 35,
   "metadata": {},
   "outputs": [],
   "source": [
    "torch.save(model.state_dict(), 'trained_smaller_model.pt')"
   ]
  },
  {
   "cell_type": "markdown",
   "metadata": {},
   "source": [
    "## Check Accuracy\n",
    "Let's check the accuracy of the model over the training set. We care about accuracy on the testing set much more, but we're going to leave that dataset alone until we've determined all the hyperparameters. I want to use the training accuracy to see if I can get away with a shorter training time (fewer epochs)."
   ]
  },
  {
   "cell_type": "code",
   "execution_count": 36,
   "metadata": {},
   "outputs": [
    {
     "data": {
      "text/plain": [
       "0.9950333333333333"
      ]
     },
     "execution_count": 36,
     "metadata": {},
     "output_type": "execute_result"
    }
   ],
   "source": [
    "from statistics import mean\n",
    "\n",
    "def accuracy(model, data_loader):\n",
    "    # Set to evaluation mode\n",
    "    model.eval()\n",
    "\n",
    "    batch_accuracies = []\n",
    "    for i, data in enumerate(data_loader):\n",
    "        inputs, labels = data\n",
    "\n",
    "        outputs = model(inputs)\n",
    "        output_labels = torch.argmax(outputs, dim=1)\n",
    "        acc = sum(output_labels==labels)/data_loader.batch_size\n",
    "        batch_accuracies.append(acc.item())\n",
    "\n",
    "    # Because the batches are all the same size, we can just average over all the batches:\n",
    "    return mean(batch_accuracies)\n",
    "\n",
    "accuracy(model, data_loader)"
   ]
  },
  {
   "cell_type": "markdown",
   "metadata": {},
   "source": [
    "So I trained my model for 10 epochs and the training accuracy is already 98%? This can't be right. Let's see how an untrained model does. Good thing we write modular code so we can just reuse the accuracy function for this and other cases."
   ]
  },
  {
   "cell_type": "code",
   "execution_count": 37,
   "metadata": {},
   "outputs": [
    {
     "data": {
      "text/plain": [
       "0.09751666666666667"
      ]
     },
     "execution_count": 37,
     "metadata": {},
     "output_type": "execute_result"
    }
   ],
   "source": [
    "untrained_model = CNN()\n",
    "accuracy(untrained_model, data_loader)"
   ]
  },
  {
   "cell_type": "markdown",
   "metadata": {},
   "source": [
    "Sanity check complete. The untrained model gets around 10% accuracy, which is what we expect by random chance. So, the CNN is just extremely powerful for image data, and even after 10 training epochs we're extremely accurate (at least on the training data). Let's call training complete. It's possible I'll rerun the training with more epochs when my machine isn't busy running anything else.\n",
    "\n",
    "Note that in the above, we don't use a validation set, so it's hard / impossible to tell if we are overfitting. The purpose of this notebook isn't to necessarily train a CNN well, so it's okay if we overfit and don't know about. If we did, we might see something interesting in the loss landscape later."
   ]
  },
  {
   "cell_type": "markdown",
   "metadata": {},
   "source": [
    "## Visualize the loss function\n",
    "\n",
    "PyTorch stores parameters in weird ways. In math, we're used to the parameters as a vector, that is $\\theta \\in \\mathbb{R}^n$, but PyTorch stores them as an iterable corresponding to the different features that each sets of the parameters are used in for the forward model. We'll convert to the vector framework as it's easier to work with and to apply mathematical theory to.\n",
    "\n",
    "In my first assignment, I looked at a least squares linear regression problem, and I also showed loss surfaces. However, for that problem, $\\theta \\in \\mathbb{R}^2$, which is drastically different than this case."
   ]
  },
  {
   "cell_type": "code",
   "execution_count": 7,
   "metadata": {},
   "outputs": [
    {
     "name": "stdout",
     "output_type": "stream",
     "text": [
      "torch.Size([3245])\n"
     ]
    }
   ],
   "source": [
    "theta_opt = nn.utils.parameters_to_vector(model.parameters())\n",
    "print(theta_opt.shape)"
   ]
  },
  {
   "cell_type": "markdown",
   "metadata": {},
   "source": [
    "We see that $\\theta \\in \\mathbb{R}^{3245}$ (and with my previous, larger model, $\\theta \\in \\mathbb{R}^{30378}$). We want to visualize the loss landscape, meaning we want to look at $L(\\theta)$ (where $L$ is the loss function). How can we visualize a function that has so many inputs?\n",
    "\n",
    "### Coordinate Transformation\n",
    "\n",
    "There are a few ways we can try. We can choose two directions, $\\theta_a , \\theta_b \\in \\mathbb{R}^{3245}$, and then look at a graph of how $L$ depends on these two directions. But now, how do we choose $\\theta_a$ and $\\theta_b$?\n",
    "\n",
    "In the simple approach, we can choose them randomly. In the difficult approach, we can choose them based off of which directions we think will be the most important. We'll start with the first, simple method, and we'll further clarify the second method when we get to it.\n",
    "\n",
    "We can measure how similar $\\theta$ is to $\\theta_a$ or $\\theta_b$ by using an inner product (which is the dot product for our case). We'll use the coordinates $(\\eta_a, \\eta_b)$ to measure how much $\\theta$ is in directions $\\theta_a$ and $\\theta_b$ (respectively). We'll also divide by a normalizing factor to make things nicer. That is,\n",
    "$$\n",
    "\\begin{align*}\n",
    "    \\eta_a & = \\frac{\\langle \\theta , \\theta_a \\rangle}{\\langle \\theta_a , \\theta_a \\rangle} \\\\\n",
    "    \\eta_b & = \\langle \\theta , \\theta_b \\rangle\n",
    "    % \\label{eq:coords}\n",
    "\\end{align*}\n",
    "$$\n",
    "\n",
    "If this is confusing, check the example of $v=[3,1,4]^T$ by using $v_a = [1, 0, 0]^T$ and $v_b = [0,1,0]^T$ (and get $\\eta_a = 3$, $\\eta_b = 1$ as the corresponding coordinates). Overall this is the same idea as [basis vectors](https://en.wikipedia.org/wiki/Basis_(linear_algebra)), but we stop at two vectors, rather than 3245 vectors, so we don't have a basis.\n",
    "\n",
    "We will also recenter the coordinate system, so that `theta_opt`, our model's final parameters is at $(0,0)$. This is just for convenience. Here's the function that will do all this math."
   ]
  },
  {
   "cell_type": "code",
   "execution_count": 8,
   "metadata": {},
   "outputs": [],
   "source": [
    "def get_coords(theta, theta_opt, theta_a, theta_b):\n",
    "    theta_centered = theta - theta_opt\n",
    "    eta_a = torch.dot(theta_centered,theta_a) / torch.dot(theta_a,theta_a)\n",
    "    eta_b = torch.dot(theta_centered,theta_b) / torch.dot(theta_b,theta_b)\n",
    "\n",
    "    coords = [eta_a, eta_b]\n",
    "    return coords"
   ]
  },
  {
   "cell_type": "markdown",
   "metadata": {},
   "source": [
    "Now, we want to visualize $L(\\theta)$ for $\\theta \\in \\text{span} \\{ \\theta_a, \\theta_b \\}$. We'll choose a subset of this to actually show. We do this by choosing $(\\eta_a, \\eta_b)$ and then computing the corresponding $\\theta$ by\n",
    "\n",
    "$$\n",
    "    \\theta = \\eta_a \\theta_a + \\eta_b \\theta_b\n",
    "$$\n",
    "\n",
    "We'll make another function for this. There's a little extra math to account for the centering that already happened. This code is not general to higher dimensions of coordinates, but our purpose is to use 2 dimensions to visualize what's going on, so that is fine."
   ]
  },
  {
   "cell_type": "code",
   "execution_count": 9,
   "metadata": {},
   "outputs": [],
   "source": [
    "def get_theta(coords, theta_opt, theta_a, theta_b):\n",
    "    theta = theta_opt + coords[0]*(theta_a) + coords[1]*(theta_b)\n",
    "    return theta"
   ]
  },
  {
   "cell_type": "markdown",
   "metadata": {},
   "source": [
    "Now, verify the previous two functions. We won't stress what _kind_ of \"random\" we choose. Here's what we check. The coordinates of `theta_opt` should be $(0,0)$ and vice versa. The coordinates of $\\theta_a$ and $\\theta_b$ should be $(1,0)$ and $(0,1)$ respectively."
   ]
  },
  {
   "cell_type": "code",
   "execution_count": 10,
   "metadata": {},
   "outputs": [
    {
     "name": "stdout",
     "output_type": "stream",
     "text": [
      "[tensor(0.), tensor(0.)]\n",
      "[tensor(1.0039), tensor(0.0222)]\n",
      "[tensor(0.0092), tensor(1.0168)]\n",
      "tensor(0.)\n"
     ]
    }
   ],
   "source": [
    "theta_a = torch.randn_like(theta_opt)\n",
    "theta_b = torch.randn_like(theta_opt)\n",
    "\n",
    "# We're dealing with model parameters, and we won't use backward for anything.\n",
    "with torch.no_grad():\n",
    "    coords_center = get_coords(theta_opt, theta_opt, theta_a, theta_b)\n",
    "    coords_a = get_coords(theta_a, theta_opt, theta_a, theta_b)\n",
    "    coords_b = get_coords(theta_b, theta_opt, theta_a, theta_b)\n",
    "    corresponding_theta = get_theta(coords_center, theta_opt, theta_a, theta_b)\n",
    "\n",
    "    print(coords_center)\n",
    "    print(coords_a)\n",
    "    print(coords_b)\n",
    "    print(torch.norm(corresponding_theta-theta_opt))"
   ]
  },
  {
   "cell_type": "markdown",
   "metadata": {},
   "source": [
    "### Visualization Functions\n",
    "Using the random directions from before, let's visualize the loss landscape. Remember, our ultimate goal is to get a physical intuition for some of the optimization methods we discussed. This function is modified from my first project."
   ]
  },
  {
   "cell_type": "code",
   "execution_count": 42,
   "metadata": {},
   "outputs": [],
   "source": [
    "def make_loss_visualization(n_grid,expansion_factor,l):\n",
    "    \n",
    "    eta_a_bnds = torch.linspace(-1,1,n_grid)*expansion_factor\n",
    "    eta_b_bnds = torch.linspace(-1,1,n_grid)*expansion_factor\n",
    "\n",
    "    # # Expand the bounds so we can see edges a little more\n",
    "    # eta_a_bnds = eta_a_bnds - expansion_factor*(eta_a_bnds - torch.mean(eta_a_bnds))\n",
    "    # eta_b_bnds = eta_b_bnds - expansion_factor*(eta_b_bnds - torch.mean(eta_b_bnds))\n",
    "\n",
    "    eta_grid = torch.meshgrid(eta_a_bnds,eta_b_bnds)\n",
    "\n",
    "    loss_grid = torch.zeros(n_grid,n_grid)\n",
    "    for i in range(n_grid):\n",
    "        for j in range(n_grid):\n",
    "            eta_pt = torch.tensor([[eta_grid[0][i][j]],[eta_grid[1][i][j]]])\n",
    "            ll = l(eta_pt)\n",
    "            # print(ll)\n",
    "            loss_grid[i][j] = ll\n",
    "\n",
    "    plt.figure(figsize=[10,10])\n",
    "    plt.contourf(eta_grid[0],eta_grid[1],loss_grid,levels=100,cmap='inferno')\n",
    "    cb = plt.colorbar()\n",
    "    cb.set_label('loss')\n",
    "    # plt.scatter(Theta_history[0,0],Theta_history[0,1],s=50,marker='x',color='r',linewidth=2,label='Start')\n",
    "    # plt.plot(Theta_history[:,0],Theta_history[:,1],'-r',label='Training')\n",
    "    # plt.scatter(Theta_optimal[0],Theta_optimal[1],s=50,marker='x',color='w',linewidth=2,label='Optimal')\n",
    "    plt.legend()\n",
    "    # plt.title(r'Training of $\\Theta$')\n",
    "    plt.xlabel(r'$\\eta_a$')\n",
    "    plt.ylabel(r'$\\eta_b$')"
   ]
  },
  {
   "cell_type": "markdown",
   "metadata": {},
   "source": [
    "And we need a function that takes $(\\eta_a, \\eta_b)$ and returns the loss associated with that point. This is what is used as `l(eta_pt)` in the above function."
   ]
  },
  {
   "cell_type": "code",
   "execution_count": 11,
   "metadata": {},
   "outputs": [],
   "source": [
    "def get_loss(model,data_loader):\n",
    "    # For a model and a data loader, returns the loss for the current parameters\n",
    "\n",
    "    # This is the same code as in the training loop, without optimization stuff.\n",
    "    # I'm using loss_fcn as a global variable here, which is not ideal, but it's not critical.\n",
    "    loss_of_epoch = 0.0\n",
    "\n",
    "    # Iterate through batches\n",
    "    for i, data in enumerate(data_loader):\n",
    "        inputs, labels = data\n",
    "\n",
    "        # Compute the loss\n",
    "        outputs = model(inputs)\n",
    "        loss = loss_fcn(outputs,labels)\n",
    "        loss_of_epoch+=loss\n",
    "\n",
    "    return loss_of_epoch\n",
    "\n",
    "def theta_to_loss(theta):\n",
    "    # Saves theta as parameters for a new model, then evaluates the loss\n",
    "    temp_model = CNN()\n",
    "    # This will put the theta parameters directly into the model.\n",
    "    nn.utils.vector_to_parameters(theta, temp_model.parameters())\n",
    "    return get_loss(temp_model,data_loader)\n",
    "\n",
    "def coords_to_loss(eta_pt, theta_opt, theta_a, theta_b):\n",
    "    theta = get_theta(eta_pt, theta_opt, theta_a, theta_b)\n",
    "    return theta_to_loss(theta)\n",
    "\n",
    "l = lambda cs : coords_to_loss(cs, theta_opt, theta_a, theta_b)"
   ]
  },
  {
   "cell_type": "markdown",
   "metadata": {},
   "source": [
    "The above code block was all to create our loss, as a function of our transformed coordinates $(\\eta_a, \\eta_b)$. Just one last check. We should get the loss that we ended training with."
   ]
  },
  {
   "cell_type": "code",
   "execution_count": 44,
   "metadata": {},
   "outputs": [
    {
     "name": "stdout",
     "output_type": "stream",
     "text": [
      "[59.67607614146155, 46.07084206480412, 51.531927822153875, 48.338220096627886, 34.40937618109428]\n"
     ]
    }
   ],
   "source": [
    "print(losses[-5:])"
   ]
  },
  {
   "cell_type": "code",
   "execution_count": 45,
   "metadata": {},
   "outputs": [
    {
     "name": "stdout",
     "output_type": "stream",
     "text": [
      "tensor(34.4093, grad_fn=<AddBackward0>)\n"
     ]
    },
    {
     "data": {
      "text/plain": [
       "tensor(34.4093, grad_fn=<AddBackward0>)"
      ]
     },
     "execution_count": 45,
     "metadata": {},
     "output_type": "execute_result"
    }
   ],
   "source": [
    "print(theta_to_loss(theta_opt))\n",
    "l([0.0,0.0])"
   ]
  },
  {
   "cell_type": "code",
   "execution_count": 46,
   "metadata": {},
   "outputs": [],
   "source": [
    "make_loss_visualization(5,0.01,l)\n",
    "plt.plot(0,0,'wx')"
   ]
  },
  {
   "cell_type": "markdown",
   "metadata": {},
   "source": [
    "In the above we see a pretty gradual change between loss values. We're also looking at a relatively small area (a small change in parameters), but within that area, the change is very small too. There are no special or unusual features that we see."
   ]
  },
  {
   "cell_type": "markdown",
   "metadata": {},
   "source": [
    "### A different way to choose $\\theta_a$ and $\\theta_b$\n",
    "\n",
    "In the above, we choose the directions $\\theta_a$ and $\\theta_b$ randomly. This works to reduce the dimensionality of what we look at, but it doesn't offer us a helpful insight into the loss surface.\n",
    "\n",
    "A better idea is to look at the important eigenvectors of the Hessian of the loss function. The [Hessian](https://en.wikipedia.org/wiki/Hessian_matrix) is defined as the following:\n",
    "\n",
    "$$ \\mathbf{H}( \\theta ) = \\nabla ^2 _\\theta L (\\theta) $$\n",
    "\n",
    "or in other words,\n",
    "\n",
    "$$(\\mathbf{H})_{i,j} = \\frac{\\partial^2 L}{\\partial x_i \\partial x_j}$$\n",
    "\n",
    "That is, the Hessian describes the way that the gradient of $L(\\theta)$ changes with respect to the parameters $\\theta$. As mentioned in class, we use the gradient to update our parameters, but the Hessian is too expensive to compute and too use. Recall that in Newton's Method, we would invert the Hessian and use this for each optimization step.\n",
    "\n",
    "Originally, I had a model with $30378$ parameters. This would have meant that $\\mathbf{H} \\in \\mathbb {R} ^{30378 \\times 30378}$. Storing such a matrix would have $30378^2 = 922822884$ entries, with each entry having 4 bytes of memory for a `float32`. This would require about $3.7$ gigabytes of memory. Then, this matrix would be used to perform a few operations (an eigenvalue decomposition). For my computer, that is a bit too much, so I retrained a smaller model with a Hessian that takes $0.042$ gigabytes to store.\n",
    "\n",
    "As we mentioned in class, computing the Hessian requires additional gradient computations equal to the number of parameters. For us, we have $3245$ parameters, so for a 10 second computation, that is roughly a 9 hour computation."
   ]
  },
  {
   "cell_type": "code",
   "execution_count": 48,
   "metadata": {},
   "outputs": [
    {
     "ename": "RuntimeError",
     "evalue": "expand(torch.FloatTensor{[5, 5]}, size=[1]): the number of sizes provided (1) must be greater or equal to the number of dimensions in the tensor (2)",
     "output_type": "error",
     "traceback": [
      "\u001b[1;31m---------------------------------------------------------------------------\u001b[0m",
      "\u001b[1;31mRuntimeError\u001b[0m                              Traceback (most recent call last)",
      "\u001b[1;32m<ipython-input-48-b5c6acd41d4e>\u001b[0m in \u001b[0;36m<module>\u001b[1;34m\u001b[0m\n\u001b[0;32m     26\u001b[0m \u001b[1;32mfor\u001b[0m \u001b[0mp_grad\u001b[0m \u001b[1;32min\u001b[0m \u001b[0mdloss_dtheta\u001b[0m\u001b[1;33m:\u001b[0m\u001b[1;33m\u001b[0m\u001b[1;33m\u001b[0m\u001b[0m\n\u001b[0;32m     27\u001b[0m     \u001b[1;32mfor\u001b[0m \u001b[0mp\u001b[0m \u001b[1;32min\u001b[0m \u001b[0mp_grad\u001b[0m\u001b[1;33m:\u001b[0m\u001b[1;33m\u001b[0m\u001b[1;33m\u001b[0m\u001b[0m\n\u001b[1;32m---> 28\u001b[1;33m         \u001b[0mjac\u001b[0m\u001b[1;33m[\u001b[0m\u001b[0mi\u001b[0m\u001b[1;33m]\u001b[0m \u001b[1;33m=\u001b[0m \u001b[0mp\u001b[0m\u001b[1;33m\u001b[0m\u001b[1;33m\u001b[0m\u001b[0m\n\u001b[0m\u001b[0;32m     29\u001b[0m         \u001b[0mi\u001b[0m\u001b[1;33m+=\u001b[0m\u001b[1;36m1\u001b[0m\u001b[1;33m\u001b[0m\u001b[1;33m\u001b[0m\u001b[0m\n\u001b[0;32m     30\u001b[0m \u001b[1;33m\u001b[0m\u001b[0m\n",
      "\u001b[1;31mRuntimeError\u001b[0m: expand(torch.FloatTensor{[5, 5]}, size=[1]): the number of sizes provided (1) must be greater or equal to the number of dimensions in the tensor (2)"
     ]
    }
   ],
   "source": [
    "# loss_fcn = nn.CrossEntropyLoss()\n",
    "\n",
    "# temp_model = CNN()\n",
    "# # This will put the theta parameters directly into the model.\n",
    "# nn.utils.vector_to_parameters(theta_opt, temp_model.parameters())\n",
    "# # l = get_loss(temp_model,data_loader)\n",
    "\n",
    "# # From a pytorch forum\n",
    "# n =  sum(p.numel() for p in model.parameters() if p.requires_grad)\n",
    "\n",
    "# def f(theta_opt):\n",
    "#     nn.utils.vector_to_parameters(theta_opt, temp_model.parameters())\n",
    "#     l = get_loss(temp_model,data_loader)\n",
    "#     return l\n",
    "\n",
    "# dloss_dtheta = []\n",
    "\n",
    "# f_eval = f(theta_opt)\n",
    "# f_eval.backward()\n",
    "\n",
    "# for param in temp_model.parameters():\n",
    "#     dloss_dtheta.append(param.grad)\n",
    "\n",
    "# jac = torch.zeros((n,1))\n",
    "# i = 0\n",
    "# for p_grad in dloss_dtheta:\n",
    "#     for p in p_grad:\n",
    "#         jac[i] = p\n",
    "#         i+=1\n",
    "\n",
    "# H = torch.autograd.functional.jacobian(theta_to_loss, theta_opt, create_graph=True)\n",
    "\n",
    "# print(H.shape)\n",
    "# print(H==0)"
   ]
  },
  {
   "cell_type": "code",
   "execution_count": 44,
   "metadata": {},
   "outputs": [
    {
     "data": {
      "text/plain": [
       "tensor(True)"
      ]
     },
     "execution_count": 44,
     "metadata": {},
     "output_type": "execute_result"
    }
   ],
   "source": [
    "torch.all(H==0)\n",
    "# print(H)\n",
    "# print(theta_opt.requires_grad)"
   ]
  },
  {
   "cell_type": "code",
   "execution_count": 42,
   "metadata": {},
   "outputs": [
    {
     "name": "stderr",
     "output_type": "stream",
     "text": [
      "<ipython-input-42-8cb4d438ac88>:8: UserWarning: The .grad attribute of a Tensor that is not a leaf Tensor is being accessed. Its .grad attribute won't be populated during autograd.backward(). If you indeed want the gradient for a non-leaf Tensor, use .retain_grad() on the non-leaf Tensor. If you access the non-leaf Tensor by mistake, make sure you access the leaf Tensor instead. See github.com/pytorch/pytorch/pull/30531 for more information.\n",
      "  g = nn.utils.parameters_to_vector(temp_model.parameters()).grad\n"
     ]
    },
    {
     "name": "stdout",
     "output_type": "stream",
     "text": [
      "None\n",
      "None\n",
      "()\n"
     ]
    },
    {
     "name": "stderr",
     "output_type": "stream",
     "text": [
      "<ipython-input-42-8cb4d438ac88>:11: UserWarning: The .grad attribute of a Tensor that is not a leaf Tensor is being accessed. Its .grad attribute won't be populated during autograd.backward(). If you indeed want the gradient for a non-leaf Tensor, use .retain_grad() on the non-leaf Tensor. If you access the non-leaf Tensor by mistake, make sure you access the leaf Tensor instead. See github.com/pytorch/pytorch/pull/30531 for more information.\n",
      "  g = nn.utils.parameters_to_vector(temp_model.parameters()).grad\n"
     ]
    }
   ],
   "source": [
    "\n",
    "\n",
    "\n",
    "print(ff)"
   ]
  },
  {
   "cell_type": "code",
   "execution_count": 23,
   "metadata": {},
   "outputs": [
    {
     "name": "stdout",
     "output_type": "stream",
     "text": [
      "(None,)\n"
     ]
    }
   ],
   "source": [
    "# env_loss = theta_to_loss(theta_opt)\n",
    "# env_grads = torch.autograd.grad(env_loss, theta_opt, retain_graph=True, create_graph=True, allow_unused=True)\n",
    "\n",
    "print( env_grads[0] )\n",
    "# hess_params = torch.zeros_like(env_grads[0])\n",
    "# for i in range(env_grads[0].size(0)):\n",
    "#     for j in range(env_grads[0].size(1)):\n",
    "#         hess_params[i, j] = torch.autograd.grad(env_grads[0][i][j], theta_opt, retain_graph=True)[0][i, j] #  <--- error here\n",
    "# print( hess_params )"
   ]
  }
 ],
 "metadata": {
  "kernelspec": {
   "display_name": "Python 3.9.7 ('spyder-env')",
   "language": "python",
   "name": "python3"
  },
  "language_info": {
   "codemirror_mode": {
    "name": "ipython",
    "version": 3
   },
   "file_extension": ".py",
   "mimetype": "text/x-python",
   "name": "python",
   "nbconvert_exporter": "python",
   "pygments_lexer": "ipython3",
   "version": "3.9.7"
  },
  "orig_nbformat": 4,
  "vscode": {
   "interpreter": {
    "hash": "14a0abb8b133e72568b7a6e8fc97e5007cb14527d4a9bd19b762b2aa54dc2329"
   }
  }
 },
 "nbformat": 4,
 "nbformat_minor": 2
}
